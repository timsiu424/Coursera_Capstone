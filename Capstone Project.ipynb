{
 "cells": [
  {
   "cell_type": "markdown",
   "metadata": {},
   "source": [
    "This notebook will be mainly used for the capstone project."
   ]
  },
  {
   "cell_type": "code",
   "execution_count": 1,
   "metadata": {},
   "outputs": [],
   "source": [
    "import pandas as pd"
   ]
  },
  {
   "cell_type": "code",
   "execution_count": 2,
   "metadata": {},
   "outputs": [],
   "source": [
    "import numpy as pd"
   ]
  },
  {
   "cell_type": "code",
   "execution_count": 3,
   "metadata": {},
   "outputs": [
    {
     "name": "stdout",
     "output_type": "stream",
     "text": [
      "Hello Capstone Project Course!\n"
     ]
    }
   ],
   "source": [
    "print(\"Hello Capstone Project Course!\")"
   ]
  },
  {
   "cell_type": "markdown",
   "metadata": {},
   "source": [
    "Introduction"
   ]
  },
  {
   "cell_type": "markdown",
   "metadata": {},
   "source": [
    "Under COVID-19 situation, many airline companies are facing a hard time in running the business. Being in a plane would be a high-risk activity because of the confined space. Also, many countries have shut down the border so as to minimize the way of spreading the virus. Therefore, people are not travelling overseas now and the revenue of the airlines companies drops significantly. In this project, the significance of factors which lead to customer satisfaction is evaluated. It is hoped that the airline company prepare for the important criteria now, and provide better service to the passengers after the COVID-19 outbreak."
   ]
  },
  {
   "cell_type": "markdown",
   "metadata": {},
   "source": [
    "Data"
   ]
  },
  {
   "cell_type": "markdown",
   "metadata": {},
   "source": [
    "Regarding the dataset, there are about 104,000 and 26,000 records in the training and testing data respectively. Also, there are 24 columns in both datasets, including the background information of the passengers, the satisfaction level on different aspects, and the overall satisfaction level. Models of regression analysis would be built to evaluate the correlation between specific aspects of satisfaction level and the overall level. Then, the model which predict the overall satisfaction level would be chosen. Finally, testing dataset would be used to evaluate the prediction accuracy of the selected model."
   ]
  },
  {
   "cell_type": "code",
   "execution_count": null,
   "metadata": {},
   "outputs": [],
   "source": []
  }
 ],
 "metadata": {
  "kernelspec": {
   "display_name": "Python 3",
   "language": "python",
   "name": "python3"
  },
  "language_info": {
   "codemirror_mode": {
    "name": "ipython",
    "version": 3
   },
   "file_extension": ".py",
   "mimetype": "text/x-python",
   "name": "python",
   "nbconvert_exporter": "python",
   "pygments_lexer": "ipython3",
   "version": "3.7.6"
  }
 },
 "nbformat": 4,
 "nbformat_minor": 4
}
